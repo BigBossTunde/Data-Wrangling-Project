{
 "cells": [
  {
   "cell_type": "markdown",
   "metadata": {},
   "source": [
    "## Reporting: wragle_report\n",
    "* Create a **300-600 word written report** called \"wrangle_report.pdf\" or \"wrangle_report.html\" that briefly describes your wrangling efforts. This is to be framed as an internal document."
   ]
  },
  {
   "cell_type": "markdown",
   "metadata": {},
   "source": [
    "# Importing my pandas libraries\n",
    "\n",
    "The first thing I did was to import the libraries that I needed for my analysis. Matplotliib & Seaborn for my visualization task, numpy for indexing, pandas for cleaning.\n",
    "\n",
    "# Data Gathering \n",
    "\n",
    "In this section of my project I gathered the 3 data set that was provided in the project workspace and reading them accordingly into a dataframe using the ‘pd.read_csv’ method. As for the tweet_json.txt file, I had to read it line by line into a dataframe using the code: ‘data = []\n",
    "for line in open ('tweet_json.json', 'r'):\n",
    "    data.append(json.loads(line))’\n",
    "\n",
    "# Quality Issues\n",
    "\n",
    "During my exploratory data analysis, I found seven quality issues (four within the twitter archive table and three within the twitter api table). \n",
    "\n",
    "Tidiness Issue\n",
    "\n",
    "I found two tidiness issue within some tables and columns from the datasets\n",
    "\n",
    "# Cleaning Data\n",
    "\n",
    "Here I cleaned the data by first making a copy of all datasets and merging different tables that had the same columns (that is ‘tweet_id’ and ‘id’. Secondly, I used the define, code, and test technique to clean my data. \n",
    "\n",
    "All the issues discovered (both quality and tidiness) were cleaned in this section.\n",
    "\n",
    "## Identified issues \n",
    "\n",
    "**Missing data**: In this case, all columns with ‘NaN’ values were removed\n",
    "**Inaccurate data**: Converted ‘None’ to ‘NaN’ indicating that no data was available\n",
    "**Wrong data type**: Converted the wrong datatype to the correct using the written code\n",
    "\n",
    "# Storing Data\n",
    "\n",
    "I stored identified data using the ‘to_csv’ code in the section of my analysis\n",
    "\n",
    "\n",
    "Analysing and Visualizing Data\n",
    "\n",
    "In this section of my analysis, I answered three questions for generated my insights and the questions are:\n",
    "- Which tweet_id has the highest retweet?\n",
    "- Which tweet_id was most liked?\n",
    "- What dog breed had the most liked tweet within the 'p1' column?\n",
    "- Visualization - What dog breed had the most mention in 'p3' column\n"
   ]
  },
  {
   "cell_type": "code",
   "execution_count": null,
   "metadata": {},
   "outputs": [],
   "source": []
  }
 ],
 "metadata": {
  "kernelspec": {
   "display_name": "Python 3 (ipykernel)",
   "language": "python",
   "name": "python3"
  },
  "language_info": {
   "codemirror_mode": {
    "name": "ipython",
    "version": 3
   },
   "file_extension": ".py",
   "mimetype": "text/x-python",
   "name": "python",
   "nbconvert_exporter": "python",
   "pygments_lexer": "ipython3",
   "version": "3.8.11"
  }
 },
 "nbformat": 4,
 "nbformat_minor": 2
}
